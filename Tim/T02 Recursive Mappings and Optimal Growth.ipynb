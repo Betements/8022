{
 "cells": [
  {
   "cell_type": "markdown",
   "metadata": {},
   "source": [
    "# Tutorial 2: Finite Horizon Programs and Examples\n",
    "\n",
    "Author: [MachinaFantasma](https://github.com/phantomachine) | [Twitter](https://twitter.com/machinafantasma)\n",
    "\n",
    "\n",
    "**Key Learning Points**\n",
    "\n",
    "Economics:\n",
    "\n",
    "* Optimal saving and consumption\n",
    "\n",
    "* Consumption theory\n",
    "\n",
    "* General (Walrasian) equilibrium (in OLG setting)\n",
    "\n",
    "* Representing dynamic equilibrium as a recursive map\n",
    "\n",
    "Skills:\n",
    "\n",
    "* Recursive maps\n",
    "\n",
    "* Difference equation system\n",
    "\n",
    "* Boundary value problem\n",
    "\n",
    "* Python:\n",
    "\n",
    "    * Programming loops\n",
    "    * conditional statements\n",
    "    * working with NumPy arrays \n",
    "    * SciPy function for root finding (``brentq``) from ``optimize`` class\n",
    "    * Defining custom functions (``def``)"
   ]
  },
  {
   "cell_type": "markdown",
   "metadata": {},
   "source": [
    "## Exercise 1 (Diamond OLG model - setup and equilibrium)\n",
    "\n",
    "Consider the Allais-Samuelson-Diamond OLG model with capital. An agent (born young at date $t \\in \\mathbb{N}$) consumes $c_{y,t}$ when young and $c_{o,t+1}$ when old. There is an infinite set of such agents on the interval $[0,1]$. The date-$t$ young agent has a preference ordering over $(c_{y,t}, c_{o,t+1})$ streams which is represented by the felicity function:\n",
    "$$\n",
    "    U(c_{y,t},c_{o,t+1}) = \\ln(c_{y,t}) + \\beta \\ln(c_{o,t+1}),\n",
    "$$\n",
    "where $\\beta > 0$. The sequence of budget constraints for the agent is:\n",
    "$$\n",
    "    c_{y,t} + s_{t} = w_{t} \\times 1,\n",
    "$$\n",
    "and,\n",
    "$$\n",
    "    c_{o,t+1} = R_{t}s_{t},\n",
    "$$\n",
    "where $s_{t}$ is savings flow, $w_{t}$ and $R_{t}-1$, respectively, are competitive equilibrium real rental rates on labor and capital.\n",
    "\n",
    "Capital is assumed to depreciate fully in each period. Total saving in the economy, $s_{t} \\times 1$, equals new capital next period: $k_{t+1} = s_{t}$. \n",
    "\n",
    "Let $k$ denote the capital-to-labor ratio, $(A,k) \\mapsto f(A,k)$ is the production function, and $(A,k) \\mapsto f_{k}(A,k)$ is its first-order derivative function (with respect to $k$). Instantiate $f$ by $f(A_{t}, k_{t}) = A_{t}k_{t}^{\\alpha}$. The firm is perfectly competitive in both its product market and its factor input (capital and labor rental) market, and maximizes profits.\n",
    "1. Write down each generation's ex-ante decision problem and characterize their optimal behavior.\n",
    "1. Do the same for the firm.\n",
    "1. Define a recursive (dynamic) competitive equilibrium (list quantities and prices, and write down their corresponding demand/supply and market clearing conditions).\n",
    "\n",
    "Hint: Follow up from your prescribed readings (e.g., Romer or Acemoglu). "
   ]
  },
  {
   "cell_type": "code",
   "execution_count": null,
   "metadata": {},
   "outputs": [],
   "source": []
  },
  {
   "cell_type": "markdown",
   "metadata": {},
   "source": [
    "## Exercise 2 (Diamond OLG model - computer exercise)\n",
    "\n",
    "Follow up from the last exercise. Now, let $\\alpha = 0.33$, $\\beta = 1.0/(1.0+0.04^{35})$, and $A_{t} = 1.0$. Calculate the (nontrivial) steady state value of $k>0$.\n",
    "4. Pick an initial $k_{0} < k$. Compute the economy's dynamic equilibrium outcome in terms of the variable $k_{t}$ beginning from your chosen $k_{0}$ for $T = 100$ periods.\n",
    "4. Now suppose $\\ln(A_{t})$ follows the AR(1) model from last week's Tutorial. Then future consumption becomes a random variable. Define the agents' payoff function now as a von-Neumann-Morgenstern expected utility:\n",
    "$$\n",
    "    U(c_{y,t},c_{o,t+1}) = \\mathbb{E} \\left\\{ \\ln(c_{y,t}) + \\beta \\ln(c_{o,t+1}) | A_{t} \\right\\}.\n",
    "$$ \n",
    "    Re-define the competititive equilibrium for this stochastic economy. Compute a sample dynamic equilibrium outcome in terms of the variable $k_{t}$."
   ]
  },
  {
   "cell_type": "code",
   "execution_count": null,
   "metadata": {},
   "outputs": [],
   "source": []
  },
  {
   "cell_type": "markdown",
   "metadata": {},
   "source": [
    "## Exercise 3 (Self-study Homework)\n",
    "\n",
    "Redo Exercises 1 and 2 but now assuming that \n",
    "$$\n",
    "    U(c_{y,t},c_{o,t+1}) = u(c_{y,t}) + \\beta u(c_{o,t+1}),\n",
    "$$\n",
    "where \n",
    "$$\n",
    "    u(x) = \\lim_{\\hat{\\theta} \\rightarrow \\theta}\\frac{x^{1-\\hat{\\theta}} - 1}{1-\\hat{\\theta}}, \\qquad \\theta > 0.\n",
    "$$\n",
    "For the calculations, set $\\theta = 2.0$."
   ]
  },
  {
   "cell_type": "code",
   "execution_count": null,
   "metadata": {},
   "outputs": [],
   "source": []
  },
  {
   "cell_type": "markdown",
   "metadata": {},
   "source": [
    "## Exercise 4 (Self-study Homework)\n",
    "\n",
    "What do you expect to get if $\\theta = 1$ in the last exercise?"
   ]
  },
  {
   "cell_type": "code",
   "execution_count": null,
   "metadata": {},
   "outputs": [],
   "source": []
  },
  {
   "cell_type": "markdown",
   "metadata": {},
   "source": [
    "## Exercise 5 (Optimal finite-horizon capital accumulation)"
   ]
  },
  {
   "cell_type": "markdown",
   "metadata": {},
   "source": [
    "Consider the finite-horizon planning problem we did in lectures: A planner seeks a finite list of saving outcomes to maximize a total expected payoff criterion function. Specifically, the planner endowed with initial wealth $k_0 > 0$ has a valuation of:\n",
    "$$\n",
    "V(k_0) = \\max_{\\{k_{t+1}\\}_{t=0}^{T}} \\left\\{\\sum_{t=0}^{T}\\beta^{t}U \\left[  f(k_{t}) - k_{t+1} \\right]:k_{T+1} \\geq 0\\right\\}.\n",
    "$$\n",
    "Assume that $U$ is continuously differentiable and strictly concave, and $f$ is continuously differentiable and concave. Also, assume that $\\lim_{x \\searrow 0} g'(x) = \\infty$ and $\\lim_{x \\nearrow \\infty} g'(x) = 0$ for $g \\in \\{U,f\\}$."
   ]
  },
  {
   "cell_type": "markdown",
   "metadata": {},
   "source": [
    "1. Given the assumptions on our primitives $u$ and $f$, argue (or prove) that there exists a unique optimal consumption strategy for the planner. (Recall your convex programming theorem from the Optimization course.)\n",
    "\n",
    "2. Characterize the necessary and sufficient conditions for optimality. \n",
    "\n",
    "    Hints: \n",
    "    * Don't forget the Karush-Kuhn-Tucker condition on the non-negativity constraint for terminal saving $k_{T+1}$.\n",
    "    \n",
    "    * Show that this simplifies to a two-point boundary value problem involving a second-order difference equation (in what variable?).\n",
    "\n",
    "2. Now let's assume $u(c) = \\ln(c)$ and $f(k) = k^{\\alpha}$. Your critical mission now is to compute by hand the planner's optimal savings strategy as a function of $k_0$.\n",
    "\n",
    "3. Repeat part 2 in Python. \n",
    "\n",
    "    a. Before you code it, write down a recipe in human-readable form (i.e., a pseudocode), for your computer algorithm.\n",
    "\n",
    "    b. Now, code up your recipe and compute it. Illustrate how the optimal trajectory for capital varies with initial wealth $k_0$. Assume some arbitrary values for $\\alpha \\in (0,1)$ and for $k_0$."
   ]
  },
  {
   "cell_type": "code",
   "execution_count": null,
   "metadata": {},
   "outputs": [],
   "source": []
  }
 ],
 "metadata": {
  "kernelspec": {
   "display_name": "Python 3",
   "language": "python",
   "name": "python3"
  },
  "language_info": {
   "codemirror_mode": {
    "name": "ipython",
    "version": 3
   },
   "file_extension": ".py",
   "mimetype": "text/x-python",
   "name": "python",
   "nbconvert_exporter": "python",
   "pygments_lexer": "ipython3",
   "version": "3.6.9"
  }
 },
 "nbformat": 4,
 "nbformat_minor": 2
}
