{
 "cells": [
  {
   "cell_type": "markdown",
   "metadata": {},
   "source": [
    "# T06 More Exercises on Competitive Equilibrium and Complete Markets"
   ]
  },
  {
   "cell_type": "markdown",
   "metadata": {},
   "source": [
    "Author: [MachinaFantasma](https://github.com/phantomachine) | [Twitter](https://twitter.com/machinafantasma)"
   ]
  },
  {
   "cell_type": "markdown",
   "metadata": {},
   "source": [
    "### Key Learning points\n",
    "\n",
    "Theory: \n",
    "\n",
    "* Complete markets\n",
    "\n",
    "* Risk and insurance\n",
    "\n",
    "* Consumption smoothing across time and states (histories)\n",
    "\n",
    "* Walrasian (competitive) equilibrium under\n",
    "\n",
    "    * Date-$0$ centralized markets (Debreu)\n",
    "    \n",
    "    * Sequential markets (Radner)\n",
    "\n",
    "* A representative agent result\n",
    "\n",
    "Applications:\n",
    "\n",
    "* Pricing redudant assets and connection asset pricing formulas used in Finance\n",
    "\n",
    "* Risk-versus-return trade-offs\n",
    "\n",
    "* Representative-agent model with unisurable aggregate shocks - the Real Business Cycle paradigm\n",
    "\n",
    "Computational insight and convenience:\n",
    "\n",
    "* Fundamental welfare theorems and solving RCE as equivalent Pareto planner's dynamic program\n",
    "\n",
    "\n",
    "\n"
   ]
  },
  {
   "cell_type": "markdown",
   "metadata": {},
   "source": [
    "<div class=\"alert alert-warning\">\n",
    "<b>IMPORTANT.</b> \n",
    "\n",
    "One or more of these questions may appear in the next in-class <a href=\"https://youtu.be/bTIcQMwYC1o\" target=\"_blank\">Test of Progress</a> and/or final exam.\n",
    "\n",
    "For all the questions below: \n",
    "</div>"
   ]
  },
  {
   "cell_type": "markdown",
   "metadata": {},
   "source": [
    "## Exercise 1\n",
    "\n",
    "Time is indexed by $t = 0,1, ...$. Let individuals be indexed by $i =1,...,I$. Assume that each function $u^{i}$ is twice continuously differentiable, increasing and strictly concave. Assume that the $u^{i}$ functions satisfy [Gorman's theorem](https://en.wikipedia.org/wiki/Gorman_polar_form). For example, it suffices if they belong to the class of homothetic preference functions.\n",
    "\n",
    "Let $S$ denote a finite set of possible outcomes for a publicly observable random variable $s_{t}$. Denote $h^{t} = (s_0, s_1, ..., s_{t})$ as a history of realized outcomes of $s_{t}$ at the start of each date $t$. Note that $h^{t}$ is an element of $H_{t} := \\times_{j=0}^{t} S$, i.e., the $(t+1)$-fold Cartesian product of $S$. Each agent $i$ faces an idiosyncratic and random stream of endowments $\\{ y_{t}^{i}(h^{t})\\}_{t\\geq0}$. Also, assume that the realized list $h^{t}$ is drawn from a known probability distribution $P_{t}(h^{t})$.\n",
    "\n",
    "Each agent $i$'s objective function is\n",
    "\n",
    "$$\n",
    "(1-\\beta)\\sum_{t=0}^{\\infty} \\beta^{t}\\sum_{h^{t} \\in H_{t}} u^{i}(c_{t}(h^{t}))P_{t}(h^{t}).\n",
    "$$\n",
    "\n",
    "\n",
    "\n",
    "1. TRUE or FALSE. Consider $u^{i}(c) =  a^{i}\\ln ( c)$, where $a^{i} > 0$ is a parameter. Is this instance of $u^{i}$ a [homothetic function](https://en.wikipedia.org/wiki/Homothetic_preferences)?\n",
    "\n",
    "2. *(Sequential) competitive equilibrium with complete Arrow securities*. Each agent $i$'s sequential budget constraint says:\n",
    "\n",
    "    $$\n",
    "    c_{t}^{i}(h^{t}) + \\sum_{s_{t+1}\\in S}Q_{t}(h^{t}, s_{t+1}) a_{t+1}^{i}(s_{t+1},h^{t}) = a_{t}^{i}(h^{t}) + y_{t}^{i}(h^{t}),\n",
    "    $$\n",
    "\n",
    "    for every date $t$ and history $h^{t}$, and every continuation state $s_{t+1}$ possibly reached from $h^{t}$.  Note that $a_{t}^{i}(h^{t}) := a_{t}^{i}(s_{t}, h^{t-1})$ describes a history and date contingent asset demand function and $Q_{t}(h^{t},\\cdot)$ is its supporting price *kernel*.\n",
    "\n",
    "   * Define the agent's natural borrowing limit.\n",
    "   \n",
    "   * Then characterize (i.e., describe precisely conditions for) a competitive equilibrium. Hint:\n",
    "       * Derive conditions describing optimal demand for commodities and assets, given prices\n",
    "       \n",
    "       * Impose market clearing conditions (Check: How many, and what, markets?)"
   ]
  },
  {
   "cell_type": "markdown",
   "metadata": {},
   "source": [
    "## Exercise 2\n",
    "\n",
    "*This exercise continues from the last.*\n",
    "\n",
    "*No-trade competitive equilibrium for the representative agent*. Now consider the [person on the Clapham Omnibus](https://en.wikipedia.org/wiki/The_man_on_the_Clapham_omnibus) (or, the [average person on the Bondi Tram](http://www8.austlii.edu.au/cgi-bin/viewdoc/au/cases/cth/HCA/1985/3.html)) representing an average across a finite set of ex-ante heterogenous agents. These agents have heterogeneous Bernoulli payoff functions: $\\{u^{i}: i = 1,...,I\\}$. His/her valuation (indirect utility) is:\n",
    "\n",
    "$$\n",
    "V(\\bar{y}_{0};\\{\\lambda_{i}\\}_{i=1}^{I}) = \\max_{\\{c_{t}^{i}(h^{t}), a_{t}^{i}(s_{t+1},h^{t}):i=1,...,I\\}_{t=0}^{\\infty}}(1-\\beta)\\sum_{i=1}^{I} \\lambda_{i}\\sum_{t=0}^{\\infty} \\beta^{t}\\sum_{h^{t} \\in H_{t}} u^{i}(c_{t}(h^{t}))P_{t}(h^{t})\n",
    "$$\n",
    "\n",
    "subject to \n",
    "$$\n",
    "c_{t}^{i}(h^{t}) + \\sum_{s_{t+1}\\in S}Q_{t}(h^{t}, s_{t+1}) a_{t+1}^{i}(s_{t+1},h^{t}) = a_{t}^{i}(h^{t}) + y_{t}^{i}(h^{t}),\n",
    "$$\n",
    "and,\n",
    "$$\n",
    "\\sum_{i=1}^{I}c_{t}(h^{t}) = \\bar{y}_{t} \\equiv \\sum_{i=1}^{I}y_{t}^{i}(h^{t}),\n",
    "$$\n",
    "for every date $t$ and history $h^{t}$, and every continuation state $s_{t+1}$ possibly reached from $h^{t}$.\n",
    "\n",
    "* Derive and characterize the competitive equilibrium for this representative agent. Argue that the equilbrium involves *no trade* from the point of view of the representative agent. \n",
    "\n",
    "* Show that the competitive equilibrium you described earlier with heterogeneous agents is allocatively equivalent to the no-trade competitive equilibrium for the representative agent.\n",
    "\n"
   ]
  },
  {
   "cell_type": "markdown",
   "metadata": {},
   "source": [
    "## Exercise 3\n",
    "\n",
    "Think about the results from the last two exercises: Discuss and explain how the representative household relates to the benevolent (Pareto) planner allegory that we used in class and in the Ljungqvist-Sargent textbook (Chapter 8)."
   ]
  },
  {
   "cell_type": "markdown",
   "metadata": {},
   "source": [
    "## Exercise 4\n",
    "\n",
    "An economy consists of two infinitely lived consumers named $i=1,2$. There is\n",
    "one nonstorable consumption good. Consumer $i$ consumes $c_{t}^{i}$ at time $t$. \n",
    "\n",
    "Consumer $i$ ranks consumption according to the following criterion function:\n",
    "\n",
    "$$\n",
    "\\sum_{t=0}^{\\infty} \\beta^{t} u\\left(c_{t}^{i}\\right)\n",
    "$$\n",
    "\n",
    "where $\\beta \\in(0,1)$ and $u(c)$ is increasing, strictly concave, and twice continuously differentiable. Consumer 1 is endowed with a stream of the consumption good $y_{t}^{i}=1,0,0,1,0,0,1, \\ldots$. Consumer 2 is endowed with a stream of the consumption good $0,1,1,0,1,1,0, \\ldots$ Assume that there are complete markets with time-$0$ trading.\n",
    "\n",
    "1. Define a competitive equilibrium.\n",
    "2. Compute a competitive equilibrium outcome.\n",
    "3. Suppose that one of the consumers markets a derivative asset that promises\n",
    "to pay $0.05$ units of consumption each period. What would the price of that asset\n",
    "be?"
   ]
  },
  {
   "cell_type": "markdown",
   "metadata": {},
   "source": [
    "## Exercise 5\n",
    "\n",
    "*From Ljungqvist and Sargent*.\n",
    "\n",
    "Consider an economy with a single consumer. There is one good in the economy, which arrives in the form of an exogenous endowment obeying \n",
    "$$\n",
    "\\quad y_{t+1}=\\lambda_{t+1} y_{t}\n",
    "$$\n",
    "where $y_{t}$ is the endowment at time $t$ and $\\left\\{\\lambda_{t+1}\\right\\}$ is governed by a two-state Markov chain with transition matrix\n",
    "$$\n",
    "P=\\left[ \\begin{array}{cc}{p_{11}} & {1-p_{11}} \\\\ {1-p_{22}} & {p_{22}}\\end{array}\\right]\n",
    "$$\n",
    "and initial distribution $\\pi_{\\lambda}=\\left[\\pi_{0} \\quad 1-\\pi_{0}\\right] .$ The value of $\\lambda_{t}$ is given by $\\overline{\\lambda}_{1}=.98$ in state 1 and $\\overline{\\lambda}_{2}=1.03$ in state $2 .$ Assume that the history of $y_{s}, \\lambda_{s}$ up to $t$ is observed at time $t .$ The consumer has endowment process $\\left\\{y_{t}\\right\\}$ and has preferences over consumption streams that are ordered by\n",
    "$$\n",
    "E_{0} \\sum_{t=0}^{\\infty} \\beta^{t} u\\left(c_{t}\\right)\n",
    "$$\n",
    "where $\\beta \\in(0,1)$ and $u(c)=\\frac{c^{1-\\gamma}}{1-\\gamma},$ where $\\gamma \\geq 1$.\n",
    "\n",
    "1. Define a competitive equilibrium, being careful to name all of the objects of which it consists.\n",
    "2. Explain how you would compute a competitive equilibrium. For the remainder of this problem, suppose that $p_{11}=.8, p_{22}=.85, \\pi_{0}=.5, \\beta=.96$ , and $\\gamma=2 .$ Suppose that the economy begins with $\\lambda_{0}=.98$ and $y_{0}=1$.\n",
    "3. Compute the (unconditional) average growth rate of consumption, computed before having observed $\\lambda_{0}$.\n",
    "4. Compute the time-0 prices of three risk-free discount bonds, in particular, those promising to pay one unit of time-j consumption for $j=0,1,2,$ respectively.\n",
    "5. Compute the time-0 prices of three bonds, in particular, ones promising to pay one unit of time-j consumption contingent on $\\lambda_{j}=\\overline{\\lambda}_{1}$ for $j=0,1,2,$ respectively.\n",
    "6. Compute the time-0 prices of three bonds, in particular, ones promising to pay one unit of time-j consumption contingent on $\\lambda_{j}=\\overline{\\lambda}_{2}$ for $j=0,1,2,$ respectively.\n",
    "7. Compare the prices that you computed in parts 4, 5, and 6."
   ]
  },
  {
   "cell_type": "markdown",
   "metadata": {},
   "source": [
    "## Exercise 6\n",
    "\n",
    "Consider a representative agent with objective function\n",
    "$$\n",
    "\\mathbb{E}_{0}\\sum_{t=0}^{\\infty}\\beta^{t}u(C_{t}).\n",
    "$$\n",
    "Assume $u(C) = \\lim_{\\theta' \\rightarrow \\theta}\\left[C^{1-\\theta'} - 1\\right]/(1-\\theta')$ and consumption growth is an independently and identically distributed (i.i.d.) random process: $\\ln(C_{t+1}/C_{t}) = g + \\sigma\\epsilon_{t+1}$, where $\\epsilon_{t}$ is i.i.d. as [standard Normal](https://en.wikipedia.org/wiki/Normal_distribution#Standard_normal_distribution) and $\\sigma \\in (0,\\infty)$ is a standard deviation scaling parameter.\n",
    "\n",
    "The agent faces a financial world that has only two assets: a risk-free bond $B_{t}$, whose return is $R_{f,t}$ and an equity or stock $N_{t}$. Her sequential budget constraint is:\n",
    "$$\n",
    "c_{t}+R_{f,t+1}^{-1} B_{t+1}+p_{t} N_{t+1} \\leq B_{t}+\\left(p_{t}+d_{t}\\right) N_{t},\n",
    "$$\n",
    "where $p_t$ is the market price of the stock and $d_{t}$ is a dividend payout, which is a claim on consumption in date $t$. In equilibrium the stock is fully held by the agent and the bond is in zero net supply.\n",
    "\n",
    "1. Show that a no-trade competitive equilibrium is characterized by a condition of the form:\n",
    "    $$\n",
    "    \\mathbb{E}_{t}\\left\\{ \\frac{\\beta u_{c}(C_{t+1})}{u_{c}(C_{t})}R_{t+1}\\right\\} = 1.\n",
    "    $$\n",
    "    What is $R_{t+1}$ exactly, and what is its economic interpretation? What does this condition say? What do you think the conditional expectations operator $\\mathbb{E}_{t}\\{\\cdot\\}$ means precisely?\n",
    "    \n",
    "2. Show that the log risk-free rate, $r_{f,t+1} := \\ln(R_{f,t+1})$, is given by the formula\n",
    "    $$\n",
    "    r_{f,t+1} = -\\ln\\beta +\\theta g -\\frac{(\\theta \\sigma)^{2}}{2}.\n",
    "    $$\n",
    "   Interpret in English what this condition says and how the log risk-free rate varies with parameters relating to preferences and also to the endowment process.\n",
    "   \n",
    "3. Let $r := \\ln(R)$. Also, show that \n",
    "    $$\n",
    "    \\mathbb{E}_{t}(r_{t+1} - r_{f,t+1}) = \\theta \\text{cov}(r_{t+1} - r_{f,t+1},\\epsilon_{t+1}) - \\frac{1}{2}\\text{var}(r_{t+1} - \\mathbb{E}_{t}r_{t+1}).\n",
    "    $$\n",
    "    What does this condition say? How do its arguments behave in different economies with different $\\theta$?\n",
    "   "
   ]
  },
  {
   "cell_type": "code",
   "execution_count": null,
   "metadata": {},
   "outputs": [],
   "source": []
  }
 ],
 "metadata": {
  "kernelspec": {
   "display_name": "Python 3",
   "language": "python",
   "name": "python3"
  },
  "language_info": {
   "codemirror_mode": {
    "name": "ipython",
    "version": 3
   },
   "file_extension": ".py",
   "mimetype": "text/x-python",
   "name": "python",
   "nbconvert_exporter": "python",
   "pygments_lexer": "ipython3",
   "version": "3.6.8"
  }
 },
 "nbformat": 4,
 "nbformat_minor": 2
}
