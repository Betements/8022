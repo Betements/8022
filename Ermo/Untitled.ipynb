{
 "cells": [
  {
   "cell_type": "markdown",
   "metadata": {},
   "source": [
    "**Critical Report**"
   ]
  },
  {
   "cell_type": "markdown",
   "metadata": {},
   "source": [
    "- Summary (two pages)\n",
    " - Issues/Questions raised in the paper\n",
    " - key features of the model\n",
    " - results of the paper\n",
    "- Methods and Insights\n",
    " - key aspects of the:\n",
    "   - empirical model \n",
    "   - equilibrium concept used\n",
    "   - characterizations and/or solutions\n",
    " - by explaining the gists of proofs to main results\n",
    " - or how quantitative/numerical results were obtained\n",
    "- originality and critical thinking:\n",
    " - your critical comments about the paper:\n",
    "   - modelling assumptions\n",
    "   - correctness\n",
    "   - suggestions for alternatives or extensions\n",
    "- literature and bibliographic referencing\n",
    "- evidence of actual scientific replication"
   ]
  },
  {
   "cell_type": "markdown",
   "metadata": {},
   "source": [
    "**Rotten Parents and Disciplined Children**\n",
    "\n",
    "- debt breaks the link between taxation and expenditure, allowing governments to shift the fiscal burden to future generations.\n",
    "- in a non-ricardian world, this raises an intergenerational conflict\n",
    "\n",
    "- a dynamic general equilibrium model of small open economies where voters each period choose domestic public good provision and its financing through debt and taxes\n",
    "\n",
    "- debt and capital are traded on worldwide markets; sovereign debt issues are abstracted via the assumption that governments are committed to debt repayment\n",
    "\n",
    "- the equilibrium is characterized in a world where countries care to a different extent for public goods relative to private consumption\n",
    "\n",
    "- the response of debt to discal shocks is persistent, but mean reverting\n",
    "\n",
    "- the steady-state GDP ratio is positively correlated across countries with (inverse) measures of government efficiency proxying for the quality of public good provision\n",
    "\n",
    "- the response to a demographic transition consisting of a \"baby boom\" followed by a \"baby bust\"\n",
    "\n",
    "- compared to an environment in which the fiscal policy is delegated to a Ramsey planner who attaches independent decayin weight to all future generations"
   ]
  },
  {
   "cell_type": "markdown",
   "metadata": {},
   "source": [
    "1. Environment and political equalibrium\n",
    "\n"
   ]
  },
  {
   "cell_type": "code",
   "execution_count": null,
   "metadata": {},
   "outputs": [],
   "source": []
  },
  {
   "cell_type": "code",
   "execution_count": null,
   "metadata": {},
   "outputs": [],
   "source": []
  },
  {
   "cell_type": "code",
   "execution_count": null,
   "metadata": {},
   "outputs": [],
   "source": []
  }
 ],
 "metadata": {
  "kernelspec": {
   "display_name": "Python 3",
   "language": "python",
   "name": "python3"
  },
  "language_info": {
   "codemirror_mode": {
    "name": "ipython",
    "version": 3
   },
   "file_extension": ".py",
   "mimetype": "text/x-python",
   "name": "python",
   "nbconvert_exporter": "python",
   "pygments_lexer": "ipython3",
   "version": "3.7.3"
  }
 },
 "nbformat": 4,
 "nbformat_minor": 2
}
